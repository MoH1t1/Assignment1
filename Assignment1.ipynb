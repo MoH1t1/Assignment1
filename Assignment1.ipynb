{
  "metadata": {
    "kernelspec": {
      "name": "python",
      "display_name": "Python (Pyodide)",
      "language": "python"
    },
    "language_info": {
      "codemirror_mode": {
        "name": "python",
        "version": 3
      },
      "file_extension": ".py",
      "mimetype": "text/x-python",
      "name": "python",
      "nbconvert_exporter": "python",
      "pygments_lexer": "ipython3",
      "version": "3.8"
    }
  },
  "nbformat_minor": 5,
  "nbformat": 4,
  "cells": [
    {
      "id": "c65e579c-9831-4d9d-b337-87ede5562fec",
      "cell_type": "code",
      "source": "#Q1. Create one variable containing following type of data:\n# string\na= \"Mohit\"\nprint(a)\n\n# list\nb= [1,2,3,\"Mohit\",[12,34]]\nprint(b)\n\n# Float\nc= 1.34\nprint(c)\n\n# Tuple\nd= (1,2,3,\"mohit\")\nprint(d)",
      "metadata": {
        "trusted": true
      },
      "outputs": [
        {
          "name": "stdout",
          "text": "Mohit\n[1, 2, 3, 'Mohit', [12, 34]]\n1.34\n(1, 2, 3, 'mohit')\n",
          "output_type": "stream"
        }
      ],
      "execution_count": 2
    },
    {
      "id": "494ca28a-2997-459d-a05b-af06073e5234",
      "cell_type": "code",
      "source": "# Q2. Given are some following variables containing data:\n# (i) var1 = ‘ ‘  # (ii) var2 = ‘[ DS , ML , Python]’   # (iii) var3 = [ ‘DS’ , ’ML’ , ‘Python’ ]  # (iv) var4 = 1.\n# What will be the data type of the above given variable.\n\nvar1=''\nprint(type(var1))\n\nvar2 = '[DS ,ML ,Python]'\nprint(type(var2))\n\nvar3 = [ 'DS' , 'ML' , 'Python' ] \nprint(type(var3))\n\nvar4 = 1\nprint(type(var4))\n",
      "metadata": {
        "trusted": true
      },
      "outputs": [
        {
          "name": "stdout",
          "text": "<class 'str'>\n<class 'str'>\n<class 'list'>\n<class 'int'>\n",
          "output_type": "stream"
        }
      ],
      "execution_count": 7
    },
    {
      "id": "c03f8972-b6e4-4342-a2cb-c12ba4127683",
      "cell_type": "code",
      "source": "# Q3. Explain the use of the following operators using an example:\n# (i) /     (ii) %    (iii) //    (iv) **\n\na= 10\na/= 5\nprint(a)         # returns the quoteint 5 divides 10\na%=1\nprint(a)         # Returns the remainder when 1 divides 2\n\nb= 22\nb//=7\nprint(b)           # Returns the quotient int part only and not the floating part\n\nb**=2\nprint(b)           # Retuns b to the power 2",
      "metadata": {
        "trusted": true
      },
      "outputs": [
        {
          "name": "stdout",
          "text": "2.0\n0.0\n3\n9\n",
          "output_type": "stream"
        }
      ],
      "execution_count": 14
    },
    {
      "id": "4cbc7891-0e41-4a51-bf23-fa7f0f945a5e",
      "cell_type": "code",
      "source": "# Q4. Create a list of length 10 of your choice containing multiple types of data. Using for loop print the element and its data type.\nlist1 = [1,2,3,None,\"Mohit\", 3.5, (1,2,3), [1,2,3,4], {1,2,3}, True]\nfor i in list1:\n    print(i,\"-->\", type(i))",
      "metadata": {
        "trusted": true
      },
      "outputs": [
        {
          "name": "stdout",
          "text": "1 --> <class 'int'>\n2 --> <class 'int'>\n3 --> <class 'int'>\nNone --> <class 'NoneType'>\nMohit --> <class 'str'>\n3.5 --> <class 'float'>\n(1, 2, 3) --> <class 'tuple'>\n[1, 2, 3, 4] --> <class 'list'>\n{1, 2, 3} --> <class 'set'>\nTrue --> <class 'bool'>\n",
          "output_type": "stream"
        }
      ],
      "execution_count": 16
    },
    {
      "id": "b1443358-cf59-4bb6-a901-c73434117313",
      "cell_type": "code",
      "source": "# Q5. Using a while loop, verify if the number A is purely divisible by number B and if so then how many times it can be divisible.\nA = 12\nB = 2\ncount=0\nwhile(A>B):\n    if(A%B==0):\n        count +=1\n        A/= B\n    else:\n        break\n\nif count >= 1:\n    print(\"Divisible\")\n    print(\"No of times: \",count)\nelse:\n   print(\"ND\")\n    \n",
      "metadata": {
        "trusted": true
      },
      "outputs": [
        {
          "name": "stdout",
          "text": "Divisible\nNo of times:  2\n",
          "output_type": "stream"
        }
      ],
      "execution_count": 24
    },
    {
      "id": "2f7936a1-38cb-45e6-abbc-41d0712a1ff0",
      "cell_type": "code",
      "source": "# Q6. Create a list containing 25 int type data. Using for loop and if-else condition print if the element is divisible by 3 or not.\nlist2 = [1,2,3,4,5,6,7,8,9,10,11,12,13,14,15,16,17,18,19,20,21,22,23,24,25]\nfor i in list2:\n    if (i%3==0):\n        print(i)\n    else:\n        continue",
      "metadata": {
        "trusted": true
      },
      "outputs": [
        {
          "name": "stdout",
          "text": "3\n6\n9\n12\n15\n18\n21\n24\n",
          "output_type": "stream"
        }
      ],
      "execution_count": 17
    },
    {
      "id": "a5ee67d0-4468-4fb9-ab8b-cad6a8f171a2",
      "cell_type": "code",
      "source": "# Q7. What do you understand about mutable and immutable data types? Give examples for both showing this property.\n\n# For mutable data types: Mutable data types refers to those data types whose values can be modified, updated or deleted after their creation. Eg: list, sets, dict\nlist1 = [1,2,3]\nlist1[0] = \"mohit\"\nprint(list1)\n\n# For Immutable data types: Immutable data types refers to those data types whose values cannot be modified, updated or deleted after their creation. Eg: int, string, tuple etc\n\ntuple1 = (1,2,3)\n# tuple1[0] = \"hello\"\n# print(tuple1)         # Returns error",
      "metadata": {
        "trusted": true
      },
      "outputs": [
        {
          "name": "stdout",
          "text": "['mohit', 2, 3]\n",
          "output_type": "stream"
        }
      ],
      "execution_count": 28
    },
    {
      "id": "ccad0ef3-0220-4e65-a07d-336c4f885e6b",
      "cell_type": "code",
      "source": "",
      "metadata": {
        "trusted": true
      },
      "outputs": [],
      "execution_count": null
    }
  ]
}